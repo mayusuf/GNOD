{
 "cells": [
  {
   "cell_type": "markdown",
   "id": "2556e7c7",
   "metadata": {},
   "source": [
    "## Fetch Songs from Spotify\n",
    "\n",
    "### Authentication"
   ]
  },
  {
   "cell_type": "markdown",
   "id": "5cf65608",
   "metadata": {},
   "source": [
    "### Initialize SpotiPy with user credentials saved in file"
   ]
  },
  {
   "cell_type": "code",
   "execution_count": null,
   "id": "3410084c",
   "metadata": {},
   "outputs": [],
   "source": [
    "# file = open(\"secrets.txt\",\"r\")\n",
    "# content = file.read()\n",
    "# secrets_dict={}\n",
    "\n",
    "# for line in content.split('\\n'):\n",
    "#     if len(line) > 0:\n",
    "#         secrets_dict[line.split(':')[0]]=line.split(':')[1].strip()\n",
    "\n",
    "\n",
    "# sp = spotipy.Spotify(auth_manager=SpotifyClientCredentials(client_id=secrets_dict['ClientID'],\n",
    "#                                                            client_secret=secrets_dict['ClientSecret']))"
   ]
  },
  {
   "cell_type": "markdown",
   "id": "acbee1dd",
   "metadata": {},
   "source": [
    "### Initialize SpotiPy with user credentials given in form"
   ]
  },
  {
   "cell_type": "code",
   "execution_count": null,
   "id": "53f182cd",
   "metadata": {},
   "outputs": [],
   "source": [
    "ClientID = input('ClientID:').strip()\n",
    "ClientSecret = input('ClientSecret:').strip()\n",
    "\n",
    "#Initialize SpotiPy with user credentials using given input \n",
    "sp = spotipy.Spotify(auth_manager=SpotifyClientCredentials(client_id=ClientID,\n",
    "                                                           client_secret=ClientSecret))"
   ]
  },
  {
   "cell_type": "markdown",
   "id": "e321375f",
   "metadata": {},
   "source": [
    "### Playlists"
   ]
  },
  {
   "cell_type": "code",
   "execution_count": null,
   "id": "90eb3e78",
   "metadata": {},
   "outputs": [],
   "source": [
    "play_list_id = \"1hMzceeWw7QiI6vaBkcEJO\"\n",
    "\n",
    "playlist = sp.user_playlist_tracks(\"spotify\", play_list_id)"
   ]
  },
  {
   "cell_type": "code",
   "execution_count": null,
   "id": "22f7bb68",
   "metadata": {},
   "outputs": [],
   "source": [
    "playlist[\"total\"] "
   ]
  },
  {
   "cell_type": "code",
   "execution_count": null,
   "id": "2399caf8",
   "metadata": {},
   "outputs": [],
   "source": [
    "def get_playlist_tracks(playlist_id):\n",
    "    results = sp.user_playlist_tracks(\"spotify\",playlist_id)\n",
    "    tracks = results['items']\n",
    "    while results['next']!=None:\n",
    "        results = sp.next(results)\n",
    "        tracks = tracks + results['items']\n",
    "        sleep(randint(1,3000)/1000) # respectful nap\n",
    "    return tracks"
   ]
  },
  {
   "cell_type": "code",
   "execution_count": null,
   "id": "26b17320",
   "metadata": {},
   "outputs": [],
   "source": [
    "all_tracks = get_playlist_tracks(play_list_id)"
   ]
  },
  {
   "cell_type": "code",
   "execution_count": null,
   "id": "67d35381",
   "metadata": {},
   "outputs": [],
   "source": [
    "tracks = json_normalize(all_tracks)"
   ]
  },
  {
   "cell_type": "code",
   "execution_count": null,
   "id": "0ab3837c",
   "metadata": {},
   "outputs": [],
   "source": [
    "# we can even create a new column containing these DataFrames! KEEP song URI\n",
    "# NOTE: need to change this function, since the columns names are now a bit different\n",
    "def expand_list_dict(row):\n",
    "    df = json_normalize(row['track.artists'])\n",
    "    df['song_id'] = row['track.id']\n",
    "    return df\n",
    "\n",
    "tracks['df_artists_by_song'] = tracks.apply(expand_list_dict, axis=1)"
   ]
  },
  {
   "cell_type": "code",
   "execution_count": null,
   "id": "61d9f10d",
   "metadata": {},
   "outputs": [],
   "source": [
    "# now we create a new dataframe with all these artists\n",
    "df_artist = pd.DataFrame(columns=['href', 'id', 'name', 'type', 'uri'])\n",
    "for mini_df in tracks['df_artists_by_song']:\n",
    "    df_artist = pd.concat([df_artist, mini_df], axis=0)"
   ]
  },
  {
   "cell_type": "code",
   "execution_count": null,
   "id": "38e31033",
   "metadata": {},
   "outputs": [],
   "source": [
    "# now we merge (join) the two dataframes, keeping only the fields we need\n",
    "df_merged = pd.merge(left=tracks,\n",
    "                    right=df_artist,\n",
    "                    how='inner',\n",
    "                    left_on='track.id',\n",
    "                    right_on='song_id')"
   ]
  },
  {
   "cell_type": "code",
   "execution_count": null,
   "id": "d400a64c",
   "metadata": {},
   "outputs": [],
   "source": [
    "df_final = df_merged[['track.name', 'name', 'song_id']]"
   ]
  }
 ],
 "metadata": {
  "kernelspec": {
   "display_name": "Python 3 (ipykernel)",
   "language": "python",
   "name": "python3"
  },
  "language_info": {
   "codemirror_mode": {
    "name": "ipython",
    "version": 3
   },
   "file_extension": ".py",
   "mimetype": "text/x-python",
   "name": "python",
   "nbconvert_exporter": "python",
   "pygments_lexer": "ipython3",
   "version": "3.11.5"
  }
 },
 "nbformat": 4,
 "nbformat_minor": 5
}
