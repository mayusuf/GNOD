{
 "cells": [
  {
   "cell_type": "code",
   "execution_count": null,
   "id": "35fe7a05",
   "metadata": {},
   "outputs": [],
   "source": [
    "songlist_to_listen = sp.search(q = title, limit=1)"
   ]
  },
  {
   "cell_type": "code",
   "execution_count": null,
   "id": "24a41d5a",
   "metadata": {},
   "outputs": [],
   "source": [
    "suggested_song_id = songlist_to_listen['tracks']['items'][0]['id']"
   ]
  },
  {
   "cell_type": "code",
   "execution_count": null,
   "id": "57f9e0f7",
   "metadata": {},
   "outputs": [],
   "source": [
    "df_suggested_song = pd.DataFrame(sp.audio_features(suggested_song_id))\n",
    "df_suggested_song = df_suggested_song.select_dtypes(include='number')"
   ]
  },
  {
   "cell_type": "code",
   "execution_count": null,
   "id": "bbdcdcb2",
   "metadata": {},
   "outputs": [],
   "source": [
    "X_prep = scaler.transform(df_suggested_song)\n",
    "clusters = kmeans.predict(X_prep)"
   ]
  },
  {
   "cell_type": "code",
   "execution_count": null,
   "id": "ec4e0b22",
   "metadata": {},
   "outputs": [],
   "source": [
    "df_recommandation = df_final[df_final['cluster_no'] == clusters[0]].sample()"
   ]
  }
 ],
 "metadata": {
  "kernelspec": {
   "display_name": "Python 3 (ipykernel)",
   "language": "python",
   "name": "python3"
  },
  "language_info": {
   "codemirror_mode": {
    "name": "ipython",
    "version": 3
   },
   "file_extension": ".py",
   "mimetype": "text/x-python",
   "name": "python",
   "nbconvert_exporter": "python",
   "pygments_lexer": "ipython3",
   "version": "3.11.5"
  }
 },
 "nbformat": 4,
 "nbformat_minor": 5
}
