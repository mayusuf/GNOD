{
 "cells": [
  {
   "cell_type": "code",
   "execution_count": null,
   "id": "c795da81",
   "metadata": {},
   "outputs": [],
   "source": [
    "url1 = \"https://www.popvortex.com/music/charts/top-100-songs.php\""
   ]
  },
  {
   "cell_type": "code",
   "execution_count": null,
   "id": "e2c6e725",
   "metadata": {},
   "outputs": [],
   "source": [
    "response1 = requests.get(url1)\n",
    "if(response1.status_code == 200):\n",
    "    soup1 = BeautifulSoup(response1.content, \"html.parser\") # 200 status code means OK!"
   ]
  },
  {
   "cell_type": "code",
   "execution_count": null,
   "id": "9fb4c135",
   "metadata": {},
   "outputs": [],
   "source": [
    "board_positions = soup1.select(\".cover-art.col-xs-12.col-sm-4 > p\")\n",
    "titles = soup1.select(\".chart-content.col-xs-12.col-sm-8 > p > cite\")\n",
    "artists = soup1.select(\".chart-content.col-xs-12.col-sm-8 > p > em\")\n",
    "    \n",
    "board_position_text = [board_position.get_text() for board_position in board_positions]\n",
    "title_text = [title.get_text() for title in titles]\n",
    "artist_text = [artist.get_text() for artist in artists]\n",
    "    \n",
    "leader_board_songs_info = {\n",
    "        \"Ranking\": board_position_text,\n",
    "        \"Title\": title_text,\n",
    "        \"Artist\": artist_text\n",
    "    }\n",
    "    \n",
    "df_hot_song_pv = pd.DataFrame(leader_board_songs_info)"
   ]
  }
 ],
 "metadata": {
  "kernelspec": {
   "display_name": "Python 3 (ipykernel)",
   "language": "python",
   "name": "python3"
  },
  "language_info": {
   "codemirror_mode": {
    "name": "ipython",
    "version": 3
   },
   "file_extension": ".py",
   "mimetype": "text/x-python",
   "name": "python",
   "nbconvert_exporter": "python",
   "pygments_lexer": "ipython3",
   "version": "3.11.5"
  }
 },
 "nbformat": 4,
 "nbformat_minor": 5
}
