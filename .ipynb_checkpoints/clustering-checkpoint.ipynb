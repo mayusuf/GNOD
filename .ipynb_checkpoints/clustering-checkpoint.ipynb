{
 "cells": [
  {
   "cell_type": "markdown",
   "id": "43fced45",
   "metadata": {},
   "source": [
    "## Chossing cluster size k"
   ]
  },
  {
   "cell_type": "code",
   "execution_count": null,
   "id": "fc6ffc40",
   "metadata": {},
   "outputs": [],
   "source": [
    "# K = range(2, 20)\n",
    "# inertia = []\n",
    "\n",
    "# for k in K:\n",
    "#     kmeans = KMeans(n_clusters=k,\n",
    "#                     random_state=1234)\n",
    "#     kmeans.fit(X_prep)\n",
    "#     inertia.append(kmeans.inertia_)\n",
    "\n",
    "# %matplotlib inline\n",
    "\n",
    "# plt.figure(figsize=(16,8))\n",
    "# plt.plot(K, inertia, 'bx-')\n",
    "# plt.xlabel('k')\n",
    "# plt.ylabel('inertia')\n",
    "# plt.xticks(np.arange(min(K), max(K)+1, 1.0))\n",
    "# plt.title('Elbow Method showing the optimal k')"
   ]
  },
  {
   "cell_type": "code",
   "execution_count": null,
   "id": "1dad9969",
   "metadata": {},
   "outputs": [],
   "source": [
    "# K = range(2, 20)\n",
    "# silhouette = []\n",
    "\n",
    "# for k in K:\n",
    "#     kmeans = KMeans(n_clusters=k,\n",
    "#                     random_state=1234)\n",
    "#     kmeans.fit(X_prep)\n",
    "#     silhouette.append(silhouette_score(X_prep, kmeans.predict(X_prep)))\n",
    "\n",
    "\n",
    "# plt.figure(figsize=(16,8))\n",
    "# plt.plot(K, silhouette, 'bx-')\n",
    "# plt.xlabel('k')\n",
    "# plt.ylabel('silhouette score')\n",
    "# plt.xticks(np.arange(min(K), max(K)+1, 1.0))\n",
    "# plt.title('Slhouette score showing the optimal k')"
   ]
  },
  {
   "cell_type": "markdown",
   "id": "9dffa15e",
   "metadata": {},
   "source": [
    "## Scalling Audio Features"
   ]
  },
  {
   "cell_type": "code",
   "execution_count": null,
   "id": "c4ac2393",
   "metadata": {},
   "outputs": [],
   "source": [
    "X_prep = scaler.fit_transform(df_final_w_audio_ft_number)\n",
    "pd.DataFrame(X_prep,columns=df_final_w_audio_ft_number.columns).head()"
   ]
  },
  {
   "cell_type": "markdown",
   "id": "88ef5d13",
   "metadata": {},
   "source": [
    "## Making Cluster"
   ]
  },
  {
   "cell_type": "code",
   "execution_count": null,
   "id": "e0241ffa",
   "metadata": {},
   "outputs": [],
   "source": [
    "kmeans = KMeans(n_clusters=7, random_state=1234)\n",
    "kmeans.fit(X_prep)"
   ]
  },
  {
   "cell_type": "code",
   "execution_count": null,
   "id": "2eeef602",
   "metadata": {},
   "outputs": [],
   "source": [
    "clusters = kmeans.predict(X_prep)\n",
    "pd.Series(clusters).value_counts().sort_index()"
   ]
  }
 ],
 "metadata": {
  "kernelspec": {
   "display_name": "Python 3 (ipykernel)",
   "language": "python",
   "name": "python3"
  },
  "language_info": {
   "codemirror_mode": {
    "name": "ipython",
    "version": 3
   },
   "file_extension": ".py",
   "mimetype": "text/x-python",
   "name": "python",
   "nbconvert_exporter": "python",
   "pygments_lexer": "ipython3",
   "version": "3.11.5"
  }
 },
 "nbformat": 4,
 "nbformat_minor": 5
}
