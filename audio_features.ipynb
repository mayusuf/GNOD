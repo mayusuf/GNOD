{
 "cells": [
  {
   "cell_type": "code",
   "execution_count": null,
   "id": "5a6d109f",
   "metadata": {},
   "outputs": [],
   "source": [
    "chunks = [(i, i+100) for i in range(0, len(df_final), 100)]\n",
    "# chunks\n",
    "audio_features_list = []\n",
    "for chunk in chunks:\n",
    "    id_list100 = df_final['song_id'][chunk[0]:chunk[1]]\n",
    "    audio_features_list = audio_features_list + sp.audio_features(id_list100)\n",
    "    sleep(randint(1,3000)/1000)"
   ]
  },
  {
   "cell_type": "code",
   "execution_count": null,
   "id": "379e9aa1",
   "metadata": {},
   "outputs": [],
   "source": [
    "audio_features_df = json_normalize(audio_features_list)"
   ]
  },
  {
   "cell_type": "code",
   "execution_count": null,
   "id": "90de84f0",
   "metadata": {},
   "outputs": [],
   "source": [
    "audio_features_df.drop_duplicates(inplace=True) # duplicates because some songs have more artists"
   ]
  },
  {
   "cell_type": "code",
   "execution_count": null,
   "id": "d475996d",
   "metadata": {},
   "outputs": [],
   "source": [
    "df_final_w_audio_ft = pd.merge(left=df_final,\n",
    "                        right=audio_features_df,\n",
    "                        how='inner',\n",
    "                        left_on='song_id',\n",
    "                        right_on='id')"
   ]
  },
  {
   "cell_type": "code",
   "execution_count": null,
   "id": "c55d6b91",
   "metadata": {},
   "outputs": [],
   "source": [
    "df_final_w_audio_ft_number = df_final_w_audio_ft.select_dtypes(include='number')"
   ]
  }
 ],
 "metadata": {
  "kernelspec": {
   "display_name": "Python 3 (ipykernel)",
   "language": "python",
   "name": "python3"
  },
  "language_info": {
   "codemirror_mode": {
    "name": "ipython",
    "version": 3
   },
   "file_extension": ".py",
   "mimetype": "text/x-python",
   "name": "python",
   "nbconvert_exporter": "python",
   "pygments_lexer": "ipython3",
   "version": "3.11.5"
  }
 },
 "nbformat": 4,
 "nbformat_minor": 5
}
