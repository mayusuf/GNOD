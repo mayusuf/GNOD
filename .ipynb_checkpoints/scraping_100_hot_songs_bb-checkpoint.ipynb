{
 "cells": [
  {
   "cell_type": "code",
   "execution_count": null,
   "id": "250019ff",
   "metadata": {},
   "outputs": [],
   "source": [
    "url2 = \"https://www.billboard.com/charts/hot-100/\""
   ]
  },
  {
   "cell_type": "code",
   "execution_count": null,
   "id": "c26c3b9f",
   "metadata": {},
   "outputs": [],
   "source": [
    "response2 = requests.get(url2)\n",
    "if(response2.status_code == 200):\n",
    "    soup2 = BeautifulSoup(response2.content, \"html.parser\") # 200 status code means OK!"
   ]
  },
  {
   "cell_type": "code",
   "execution_count": null,
   "id": "dc2d286b",
   "metadata": {},
   "outputs": [],
   "source": [
    "titles = []\n",
    "artists = []\n",
    "\n",
    "for i in range(1, 110): \n",
    "    title_selector = f\"#post-1479786 > div.pmc-paywall > div > div > div > div.chart-results-list.\\/\\/.lrv-u-padding-t-150.lrv-u-padding-t-050\\\\@mobile-max > div:nth-child({i + 1}) > ul > li.lrv-u-width-100p > ul > li.o-chart-results-list__item.\\/\\/.lrv-u-flex-grow-1.lrv-u-flex.lrv-u-flex-direction-column.lrv-u-justify-content-center.lrv-u-border-b-1.u-border-b-0\\\\@mobile-max.lrv-u-border-color-grey-light.lrv-u-padding-l-1\\\\@mobile-max > h3\"\n",
    "    artist_selector = f\"#post-1479786 > div.pmc-paywall > div > div > div > div.chart-results-list.\\/\\/.lrv-u-padding-t-150.lrv-u-padding-t-050\\\\@mobile-max > div:nth-child({i + 1}) > ul > li.lrv-u-width-100p > ul > li.o-chart-results-list__item.\\/\\/.lrv-u-flex-grow-1.lrv-u-flex.lrv-u-flex-direction-column.lrv-u-justify-content-center.lrv-u-border-b-1.u-border-b-0\\\\@mobile-max.lrv-u-border-color-grey-light.lrv-u-padding-l-1\\\\@mobile-max > span\"\n",
    "\n",
    "    title_element = soup2.select_one(title_selector)\n",
    "    artist_element = soup2.select_one(artist_selector)\n",
    "\n",
    "    if title_element:\n",
    "        title = title_element.get_text(strip=True)\n",
    "        titles.append(title)\n",
    "\n",
    "    if artist_element:\n",
    "        artist = artist_element.get_text(strip=True)\n",
    "        artists.append(artist)\n",
    "\n",
    "song_title_artist = {'Title': titles, 'Artist': artists}\n",
    "df_hot_song_bb = pd.DataFrame(song_title_artist, index=range(1, len(titles) + 1))"
   ]
  }
 ],
 "metadata": {
  "kernelspec": {
   "display_name": "Python 3 (ipykernel)",
   "language": "python",
   "name": "python3"
  },
  "language_info": {
   "codemirror_mode": {
    "name": "ipython",
    "version": 3
   },
   "file_extension": ".py",
   "mimetype": "text/x-python",
   "name": "python",
   "nbconvert_exporter": "python",
   "pygments_lexer": "ipython3",
   "version": "3.11.5"
  }
 },
 "nbformat": 4,
 "nbformat_minor": 5
}
